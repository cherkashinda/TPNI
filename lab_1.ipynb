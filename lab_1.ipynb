{
 "cells": [
  {
   "cell_type": "markdown",
   "metadata": {},
   "source": [
    "1. Dataframe"
   ]
  },
  {
   "cell_type": "code",
   "execution_count": 2,
   "metadata": {},
   "outputs": [],
   "source": [
    "import numpy as np\n",
    "import pandas as pd"
   ]
  },
  {
   "cell_type": "code",
   "execution_count": 3,
   "metadata": {},
   "outputs": [
    {
     "name": "stdout",
     "output_type": "stream",
     "text": [
      "Структура данных:  DataFrame\n"
     ]
    },
    {
     "data": {
      "text/html": [
       "<div>\n",
       "<style scoped>\n",
       "    .dataframe tbody tr th:only-of-type {\n",
       "        vertical-align: middle;\n",
       "    }\n",
       "\n",
       "    .dataframe tbody tr th {\n",
       "        vertical-align: top;\n",
       "    }\n",
       "\n",
       "    .dataframe thead th {\n",
       "        text-align: right;\n",
       "    }\n",
       "</style>\n",
       "<table border=\"1\" class=\"dataframe\">\n",
       "  <thead>\n",
       "    <tr style=\"text-align: right;\">\n",
       "      <th></th>\n",
       "      <th>Договор</th>\n",
       "      <th>Клиент</th>\n",
       "      <th>Год</th>\n",
       "      <th>Сумма</th>\n",
       "    </tr>\n",
       "  </thead>\n",
       "  <tbody>\n",
       "    <tr>\n",
       "      <th>0</th>\n",
       "      <td>Договор №1</td>\n",
       "      <td>Черкашин</td>\n",
       "      <td>2012</td>\n",
       "      <td>5000000</td>\n",
       "    </tr>\n",
       "    <tr>\n",
       "      <th>1</th>\n",
       "      <td>Договор №2</td>\n",
       "      <td>Михайлов</td>\n",
       "      <td>2013</td>\n",
       "      <td>5500000</td>\n",
       "    </tr>\n",
       "    <tr>\n",
       "      <th>2</th>\n",
       "      <td>Договор №3</td>\n",
       "      <td>Куприян</td>\n",
       "      <td>2014</td>\n",
       "      <td>6000000</td>\n",
       "    </tr>\n",
       "    <tr>\n",
       "      <th>3</th>\n",
       "      <td>Договор №4</td>\n",
       "      <td>Езиков</td>\n",
       "      <td>2015</td>\n",
       "      <td>6500000</td>\n",
       "    </tr>\n",
       "    <tr>\n",
       "      <th>4</th>\n",
       "      <td>Договор №5</td>\n",
       "      <td>Хрипунов</td>\n",
       "      <td>2016</td>\n",
       "      <td>7000000</td>\n",
       "    </tr>\n",
       "  </tbody>\n",
       "</table>\n",
       "</div>"
      ],
      "text/plain": [
       "      Договор    Клиент   Год    Сумма\n",
       "0  Договор №1  Черкашин  2012  5000000\n",
       "1  Договор №2  Михайлов  2013  5500000\n",
       "2  Договор №3   Куприян  2014  6000000\n",
       "3  Договор №4    Езиков  2015  6500000\n",
       "4  Договор №5  Хрипунов  2016  7000000"
      ]
     },
     "execution_count": 3,
     "metadata": {},
     "output_type": "execute_result"
    }
   ],
   "source": [
    "contract = pd.Series(['Договор №1','Договор №2','Договор №3','Договор №4','Договор №5'], name='Договор')\n",
    "customer = pd.Series(['Черкашин','Михайлов','Куприян','Езиков','Хрипунов'], name='Клиент')\n",
    "date = pd.Series([2012,2013,2014,2015,2016], name='Год')\n",
    "total_price = pd.Series([5000000,5500000,6000000,6500000,7000000], name='Сумма')\n",
    "\n",
    "data = pd.concat([contract,customer,date,total_price], axis=1)\n",
    "print('Структура данных: ', type(data).__name__)\n",
    "data"
   ]
  },
  {
   "cell_type": "code",
   "execution_count": null,
   "metadata": {},
   "outputs": [],
   "source": []
  }
 ],
 "metadata": {
  "kernelspec": {
   "display_name": "Python 3",
   "language": "python",
   "name": "python3"
  },
  "language_info": {
   "codemirror_mode": {
    "name": "ipython",
    "version": 3
   },
   "file_extension": ".py",
   "mimetype": "text/x-python",
   "name": "python",
   "nbconvert_exporter": "python",
   "pygments_lexer": "ipython3",
   "version": "3.8.5"
  }
 },
 "nbformat": 4,
 "nbformat_minor": 4
}
