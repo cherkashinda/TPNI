{
 "cells": [
  {
   "cell_type": "markdown",
   "metadata": {},
   "source": [
    "# 5.1"
   ]
  },
  {
   "cell_type": "code",
   "execution_count": 11,
   "metadata": {},
   "outputs": [],
   "source": [
    "import pandas as pd\n",
    "import numpy as np\n",
    "import math\n",
    "from sklearn.datasets import load_breast_cancer\n",
    "from sklearn.model_selection import train_test_split\n",
    "from sklearn.metrics import f1_score\n",
    "from sklearn.tree import DecisionTreeClassifier\n",
    "from sklearn.ensemble import RandomForestClassifier, ExtraTreesClassifier, RandomTreesEmbedding, VotingClassifier"
   ]
  },
  {
   "cell_type": "markdown",
   "metadata": {},
   "source": [
    "Все задания выполняются на основе датасета UCI ML Breast Cancer Wisconsin. (https://goo.gl/U2Uwz2)  \n",
    "Все признаки являются числовыми."
   ]
  },
  {
   "cell_type": "code",
   "execution_count": 13,
   "metadata": {},
   "outputs": [],
   "source": [
    "X, y = load_breast_cancer(return_X_y=True)"
   ]
  },
  {
   "cell_type": "code",
   "execution_count": 14,
   "metadata": {},
   "outputs": [],
   "source": [
    "X_train, X_test, y_train, y_test = train_test_split(X, y, random_state=42, test_size=0.2)"
   ]
  },
  {
   "cell_type": "markdown",
   "metadata": {},
   "source": [
    "1) Реализовать функцию подсчета индекса Джини"
   ]
  },
  {
   "cell_type": "code",
   "execution_count": 5,
   "metadata": {},
   "outputs": [],
   "source": [
    "def compute_gini_impurity(labels):\n",
    "    \"\"\"\n",
    "    :arg labels: np.array of shape (n_objects,)\n",
    "    \n",
    "    :return: gini_impurity: float\n",
    "    \"\"\"\n",
    "    unique, counts = np.unique(labels, return_counts=True)\n",
    "    res = 1\n",
    "    for i in range(len(unique)):\n",
    "        p =  counts[i]/np.sum(counts)\n",
    "        res = res - p ** 2\n",
    "    return res"
   ]
  },
  {
   "cell_type": "markdown",
   "metadata": {},
   "source": [
    "2) Реализовать функцию подсчета энтропии"
   ]
  },
  {
   "cell_type": "code",
   "execution_count": 9,
   "metadata": {},
   "outputs": [],
   "source": [
    "def compute_entropy(labels):\n",
    "    \"\"\"\n",
    "    :arg labels: np.array of shape (n_objects,)\n",
    "    \n",
    "    :return: entropy: float\n",
    "    \"\"\"\n",
    "    unique, counts = np.unique(labels, return_counts=True)\n",
    "    res = 0\n",
    "    for i in range(len(unique)):\n",
    "        p =  counts[i]/np.sum(counts)\n",
    "        res = res - p*math.log2(p)\n",
    "    return res"
   ]
  },
  {
   "cell_type": "markdown",
   "metadata": {},
   "source": [
    "3) Реализовать функцию подсчета Information Gain"
   ]
  },
  {
   "cell_type": "code",
   "execution_count": 10,
   "metadata": {},
   "outputs": [],
   "source": [
    "def calculate_information_gain(s0, *args):\n",
    "    \"\"\"\n",
    "    Calculates IG for a split s_1, ..., s_k.\n",
    "        :arg s0: the whole set, sequence of shape (n_objects,)\n",
    "        :arg args: split — a list of sequences, such that s0 = union(s_1, ..., s_k) and\n",
    "           for all i, j: intersection(s_i, s_j) = 0\n",
    "           \n",
    "        :return: information_gain: float\n",
    "    \"\"\"\n",
    "    unique_s0, counts_s0 = np.unique(s0, return_counts=True)\n",
    "\n",
    "    unique_args = []\n",
    "    counts_args = []\n",
    "\n",
    "    for i in range(len(args)):\n",
    "        unique_buf, counts_buf = np.unique(args[i], return_counts=True)\n",
    "        unique_args.append(unique_buf)\n",
    "        counts_args.append(counts_buf)\n",
    "\n",
    "    res = compute_entropy(s0)\n",
    "\n",
    "    for i in range(len(args)):\n",
    "        res = res - (np.sum(counts_args[i])/np.sum(counts_s0))*compute_entropy(args[i])\n",
    "\n",
    "    return res"
   ]
  },
  {
   "cell_type": "code",
   "execution_count": 11,
   "metadata": {},
   "outputs": [
    {
     "data": {
      "text/plain": [
       "0.9182958340544896"
      ]
     },
     "execution_count": 11,
     "metadata": {},
     "output_type": "execute_result"
    }
   ],
   "source": [
    "calculate_information_gain([1, 2, 3, 4, 5, 6], [1, 2, 3, 4], [5, 6])"
   ]
  },
  {
   "cell_type": "markdown",
   "metadata": {},
   "source": [
    "## Задачи с проверкой ответа"
   ]
  },
  {
   "cell_type": "markdown",
   "metadata": {},
   "source": [
    "В следующих заданих требуется так или иначе изменить параметры дерева решений и оценить результат.  \n",
    "Как метрику качества будем использовать F1-score. В каждом задании необходимо поменять __только один__ параметр."
   ]
  },
  {
   "cell_type": "code",
   "execution_count": 12,
   "metadata": {},
   "outputs": [],
   "source": [
    "def compute_metric(clf):\n",
    "    np.random.seed(42)\n",
    "    clf.fit(X_train, y_train)\n",
    "    y_test_pred = clf.predict(X_test)\n",
    "    return np.round(f1_score(y_test, y_test_pred), 6)"
   ]
  },
  {
   "cell_type": "markdown",
   "metadata": {},
   "source": [
    "Посчитаем значение метрики со стандартными параметрами."
   ]
  },
  {
   "cell_type": "code",
   "execution_count": 13,
   "metadata": {},
   "outputs": [
    {
     "data": {
      "text/plain": [
       "0.957746"
      ]
     },
     "execution_count": 13,
     "metadata": {},
     "output_type": "execute_result"
    }
   ],
   "source": [
    "compute_metric(DecisionTreeClassifier())"
   ]
  },
  {
   "cell_type": "markdown",
   "metadata": {},
   "source": [
    "4) Добавьте следующее условие: для выполнения сплита должно быть как минимум 22 объекта. Чему равна метрика F1 на отложенной выборке?"
   ]
  },
  {
   "cell_type": "code",
   "execution_count": 14,
   "metadata": {},
   "outputs": [
    {
     "data": {
      "text/plain": [
       "0.951049"
      ]
     },
     "execution_count": 14,
     "metadata": {},
     "output_type": "execute_result"
    }
   ],
   "source": [
    "compute_metric(DecisionTreeClassifier(min_samples_split=22))"
   ]
  },
  {
   "cell_type": "markdown",
   "metadata": {},
   "source": [
    "5) Добавьте следующее условие: в листе должно быть как минимум 10 элементов. Чему равна метрика F1 на отложенной выборке?"
   ]
  },
  {
   "cell_type": "code",
   "execution_count": 15,
   "metadata": {},
   "outputs": [
    {
     "data": {
      "text/plain": [
       "0.957746"
      ]
     },
     "execution_count": 15,
     "metadata": {},
     "output_type": "execute_result"
    }
   ],
   "source": [
    "compute_metric(DecisionTreeClassifier(max_leaf_nodes=10))"
   ]
  },
  {
   "cell_type": "markdown",
   "metadata": {},
   "source": [
    "6) Добавьте следующее условие: в дереве должно быть не более 8 листьев. Чему равна метрика F1 на отложенной выборке?"
   ]
  },
  {
   "cell_type": "code",
   "execution_count": 16,
   "metadata": {},
   "outputs": [
    {
     "data": {
      "text/plain": [
       "0.958333"
      ]
     },
     "execution_count": 16,
     "metadata": {},
     "output_type": "execute_result"
    }
   ],
   "source": [
    "compute_metric(DecisionTreeClassifier(min_samples_leaf=10))"
   ]
  },
  {
   "cell_type": "markdown",
   "metadata": {},
   "source": [
    "7) Добавьте следующее условие: глубина дерева должна быть не более 4. Чему равна метрика F1 на отложенной выборке?"
   ]
  },
  {
   "cell_type": "code",
   "execution_count": 17,
   "metadata": {},
   "outputs": [
    {
     "data": {
      "text/plain": [
       "0.957746"
      ]
     },
     "execution_count": 17,
     "metadata": {},
     "output_type": "execute_result"
    }
   ],
   "source": [
    "compute_metric(DecisionTreeClassifier(max_depth=4))"
   ]
  },
  {
   "cell_type": "markdown",
   "metadata": {},
   "source": [
    "8) При помощи параметра \"class_weight\" выставите веса объектов обратно пропорциональными их частоте в обучающей выборке. Чему стала равна метрика F1 на отложенной выборке?"
   ]
  },
  {
   "cell_type": "code",
   "execution_count": 18,
   "metadata": {},
   "outputs": [
    {
     "data": {
      "text/plain": [
       "0.965035"
      ]
     },
     "execution_count": 18,
     "metadata": {},
     "output_type": "execute_result"
    }
   ],
   "source": [
    "compute_metric(DecisionTreeClassifier(class_weight=\"balanced\"))"
   ]
  },
  {
   "cell_type": "markdown",
   "metadata": {},
   "source": [
    "9) Поменяйте критерий для построения дерева решений на 'entropy', который мы разбирали на теории. Чему стала равна метрика F1 на отложенной выборке?"
   ]
  },
  {
   "cell_type": "code",
   "execution_count": 19,
   "metadata": {},
   "outputs": [
    {
     "data": {
      "text/plain": [
       "0.958904"
      ]
     },
     "execution_count": 19,
     "metadata": {},
     "output_type": "execute_result"
    }
   ],
   "source": [
    "compute_metric(DecisionTreeClassifier(criterion=\"entropy\"))"
   ]
  },
  {
   "cell_type": "markdown",
   "metadata": {},
   "source": [
    "10) Укажите параметр min_samples_split=50. Какая получилась глубина у получившегося дерева? Укажите ее ниже."
   ]
  },
  {
   "cell_type": "code",
   "execution_count": 20,
   "metadata": {},
   "outputs": [
    {
     "data": {
      "text/plain": [
       "0.937931"
      ]
     },
     "execution_count": 20,
     "metadata": {},
     "output_type": "execute_result"
    }
   ],
   "source": [
    "compute_metric(DecisionTreeClassifier(min_samples_split=50))"
   ]
  },
  {
   "cell_type": "markdown",
   "metadata": {},
   "source": [
    "11) Вставьте в код условие, которое выполнит эвристику `min_samples_split`.\n",
    "\n",
    "```python\n",
    "class DecisionTreeClassifier(object):\n",
    "    def __init__(self, max_depth=3, min_samples_split=2, min_samples_leaf=1):\n",
    "        self.max_depth = max_depth\n",
    "        self.min_samples_split = min_samples_split\n",
    "        self.min_samples_leaf = min_samples_leaf\n",
    "        \n",
    "        self.root = None\n",
    "    \n",
    "    def _fit_id3(self, x, y, level):\n",
    "        class_labels = np.unique(y)\n",
    "        # if there is only one class in y then return leaf node\n",
    "        if class_labels.size == 1:\n",
    "            self.n_nodes += 1\n",
    "            return Node(class_label=class_labels[0])\n",
    "\n",
    "        # find the most informative predicate and split by them\n",
    "        beta = Predicate(x, y)\n",
    "        to_left, to_right = beta.split(x, y)\n",
    "\n",
    "        # if one of arrays is empty after split then return leaf node\n",
    "        if (to_left[0].size == 0 or \n",
    "            to_right[0].size == 0 or \n",
    "            level > self.max_depth or\n",
    "            _______________________):\n",
    "            labels, counts = np.unique(y, return_counts=True)\n",
    "            class_label = labels[counts.argmax(axis=0)]\n",
    "            self.n_nodes += 1\n",
    "            return Node(class_label=class_label)\n",
    "\n",
    "        node = Node()\n",
    "        node.set_predicate(beta)\n",
    "\n",
    "        node.set_left(self._fit_id3(to_left[0], to_left[1], level + 1))\n",
    "        node.set_right(self._fit_id3(to_right[0], to_right[1], level + 1))\n",
    "\n",
    "        return node\n",
    "```"
   ]
  },
  {
   "cell_type": "code",
   "execution_count": 21,
   "metadata": {},
   "outputs": [],
   "source": [
    "class DecisionTreeClassifier(object):\n",
    "    def __init__(self, max_depth=3, min_samples_split=2, min_samples_leaf=1):\n",
    "        self.max_depth = max_depth\n",
    "        self.min_samples_split = min_samples_split\n",
    "        self.min_samples_leaf = min_samples_leaf\n",
    "        \n",
    "        self.root = None\n",
    "    \n",
    "    def _fit_id3(self, x, y, level):\n",
    "        class_labels = np.unique(y)\n",
    "        # if there is only one class in y then return leaf node\n",
    "        if class_labels.size == 1:\n",
    "            self.n_nodes += 1\n",
    "            return Node(class_label=class_labels[0])\n",
    "\n",
    "        # find the most informative predicate and split by them\n",
    "        beta = Predicate(x, y)\n",
    "        to_left, to_right = beta.split(x, y)\n",
    "\n",
    "        # if one of arrays is empty after split then return leaf node\n",
    "        if (to_left[0].size == 0 or to_right[0].size == 0 or level > self.max_depth or self.min_samples_split >= 2):\n",
    "            labels, counts = np.unique(y, return_counts=True)\n",
    "            class_label = labels[counts.argmax(axis=0)]\n",
    "            self.n_nodes += 1\n",
    "            return Node(class_label=class_label)\n",
    "\n",
    "        node = Node()\n",
    "        node.set_predicate(beta)\n",
    "\n",
    "        node.set_left(self._fit_id3(to_left[0], to_left[1], level + 1))\n",
    "        node.set_right(self._fit_id3(to_right[0], to_right[1], level + 1))\n",
    "\n",
    "        return node"
   ]
  },
  {
   "cell_type": "markdown",
   "metadata": {},
   "source": [
    "12) Вставьте в код условие, которое выполнит эвристику `min_samples_leaf`.\n",
    "\n",
    "```python\n",
    "class DecisionTreeClassifier(object):\n",
    "    def __init__(self, max_depth=3, min_samples_split=2, min_samples_leaf=1):\n",
    "        self.max_depth = max_depth\n",
    "        self.min_samples_split = min_samples_split\n",
    "        self.min_samples_leaf = min_samples_leaf\n",
    "        \n",
    "        self.root = None\n",
    "    \n",
    "    def _fit_id3(self, x, y, level):\n",
    "        class_labels = np.unique(y)\n",
    "        # if there is only one class in y then return leaf node\n",
    "        if class_labels.size == 1 or ________________:\n",
    "            self.n_nodes += 1\n",
    "            return Node(class_label=class_labels[0])\n",
    "\n",
    "        # find the most informative predicate and split by them\n",
    "        beta = Predicate(x, y)\n",
    "        to_left, to_right = beta.split(x, y)\n",
    "\n",
    "        # if one of arrays is empty after split then return leaf node\n",
    "        if (to_left[0].size == 0 or \n",
    "            to_right[0].size == 0 or \n",
    "            level > self.max_depth):\n",
    "            labels, counts = np.unique(y, return_counts=True)\n",
    "            class_label = labels[counts.argmax(axis=0)]\n",
    "            self.n_nodes += 1\n",
    "            return Node(class_label=class_label)\n",
    "\n",
    "        node = Node()\n",
    "        node.set_predicate(beta)\n",
    "\n",
    "        node.set_left(self._fit_id3(to_left[0], to_left[1], level + 1))\n",
    "        node.set_right(self._fit_id3(to_right[0], to_right[1], level + 1))\n",
    "\n",
    "        return node\n",
    "```"
   ]
  },
  {
   "cell_type": "code",
   "execution_count": null,
   "metadata": {},
   "outputs": [],
   "source": [
    "class DecisionTreeClassifier(object):\n",
    "    def __init__(self, max_depth=3, min_samples_split=2, min_samples_leaf=1):\n",
    "        self.max_depth = max_depth\n",
    "        self.min_samples_split = min_samples_split\n",
    "        self.min_samples_leaf = min_samples_leaf\n",
    "        \n",
    "        self.root = None\n",
    "    \n",
    "    def _fit_id3(self, x, y, level):\n",
    "        class_labels = np.unique(y)\n",
    "        # if there is only one class in y then return leaf node\n",
    "        if class_labels.size == 1 or min_samples_leaf >= 1:\n",
    "            self.n_nodes += 1\n",
    "            return Node(class_label=class_labels[0])\n",
    "\n",
    "        # find the most informative predicate and split by them\n",
    "        beta = Predicate(x, y)\n",
    "        to_left, to_right = beta.split(x, y)\n",
    "\n",
    "        # if one of arrays is empty after split then return leaf node\n",
    "        if (to_left[0].size == 0 or to_right[0].size == 0 or level > self.max_depth):\n",
    "            labels, counts = np.unique(y, return_counts=True)\n",
    "            class_label = labels[counts.argmax(axis=0)]\n",
    "            self.n_nodes += 1\n",
    "            return Node(class_label=class_label)\n",
    "\n",
    "        node = Node()\n",
    "        node.set_predicate(beta)\n",
    "\n",
    "        node.set_left(self._fit_id3(to_left[0], to_left[1], level + 1))\n",
    "        node.set_right(self._fit_id3(to_right[0], to_right[1], level + 1))\n",
    "\n",
    "        return node"
   ]
  },
  {
   "cell_type": "markdown",
   "metadata": {},
   "source": [
    "## 5.2"
   ]
  },
  {
   "cell_type": "code",
   "execution_count": null,
   "metadata": {},
   "outputs": [],
   "source": [
    "Все задания выполняются на основе датасета UCI ML Breast Cancer Wisconsin. (https://goo.gl/U2Uwz2)  \n",
    "Все признаки являются числовыми."
   ]
  },
  {
   "cell_type": "code",
   "execution_count": null,
   "metadata": {},
   "outputs": [],
   "source": [
    "X, y = load_breast_cancer(return_X_y=True)\n",
    "X_train, X_test, y_train, y_test = train_test_split(X, y, random_state=42, test_size=0.2)"
   ]
  },
  {
   "cell_type": "markdown",
   "metadata": {},
   "source": [
    "## Задачи с проверкой кода\n",
    "\n",
    "1) Реализовать функцию нахождения самого частого элемента в массиве (голосование)"
   ]
  },
  {
   "cell_type": "code",
   "execution_count": 35,
   "metadata": {},
   "outputs": [],
   "source": [
    "def get_most_frequent_value(sequence):\n",
    "    unique, counts = np.unique(sequence, return_counts=True)\n",
    "    d = dict(zip(unique, counts))\n",
    "    i = list(d.values()).index(max(counts))\n",
    "\n",
    "    return list(d.keys())[i]"
   ]
  },
  {
   "cell_type": "code",
   "execution_count": 38,
   "metadata": {},
   "outputs": [
    {
     "data": {
      "text/plain": [
       "3"
      ]
     },
     "execution_count": 38,
     "metadata": {},
     "output_type": "execute_result"
    }
   ],
   "source": [
    "get_most_frequent_value([1,2,3,3,3,4,4])"
   ]
  },
  {
   "cell_type": "markdown",
   "metadata": {},
   "source": [
    "2. Реализуйте функцию, выполняющую бутстреп. Ваш алгоритм должен сохранить размерность входного параметра values! В данном случае, функция должна вернуть одномерный массив"
   ]
  },
  {
   "cell_type": "code",
   "execution_count": 6,
   "metadata": {},
   "outputs": [],
   "source": [
    "def bootstrap(values, new_dataset_size):\n",
    "    res = np.empty((0,values.shape[1]), int)\n",
    "    for i in range(new_dataset_size):\n",
    "        res = np.append(res, values[np.random.choice(range(0,values.shape[0]),1)], axis = 0)\n",
    "    return res"
   ]
  },
  {
   "cell_type": "code",
   "execution_count": 7,
   "metadata": {},
   "outputs": [],
   "source": [
    "A = np.array([[1,2,3],[4,5,6],[7,8,9]])"
   ]
  },
  {
   "cell_type": "code",
   "execution_count": 8,
   "metadata": {},
   "outputs": [
    {
     "data": {
      "text/plain": [
       "array([[1, 2, 3],\n",
       "       [1, 2, 3],\n",
       "       [1, 2, 3],\n",
       "       [7, 8, 9],\n",
       "       [4, 5, 6]])"
      ]
     },
     "execution_count": 8,
     "metadata": {},
     "output_type": "execute_result"
    }
   ],
   "source": [
    "bootstrap(A, 5)"
   ]
  },
  {
   "cell_type": "markdown",
   "metadata": {},
   "source": [
    "3. Реализовать фукнцию для подсчета произвольной метрики из Scikit-Learn в режиме OOB."
   ]
  },
  {
   "cell_type": "code",
   "execution_count": 9,
   "metadata": {},
   "outputs": [],
   "source": [
    "def estimate_oob_metric(forest, metric):\n",
    "    return forest.oob_score_"
   ]
  },
  {
   "cell_type": "code",
   "execution_count": 18,
   "metadata": {},
   "outputs": [
    {
     "data": {
      "text/plain": [
       "0.967032967032967"
      ]
     },
     "execution_count": 18,
     "metadata": {},
     "output_type": "execute_result"
    }
   ],
   "source": [
    "forest = RandomForestClassifier(n_estimators=100, max_depth=8, criterion='entropy', oob_score=True, random_state=42)\n",
    "forest.fit(X_train, y_train)\n",
    "y_pred = forest.predict(X_train)\n",
    "f1 = f1_score(y_train, y_pred)\n",
    "\n",
    "estimate_oob_metric(forest, f1)"
   ]
  },
  {
   "cell_type": "markdown",
   "metadata": {},
   "source": [
    "## Задачи с проверкой ответа"
   ]
  },
  {
   "cell_type": "markdown",
   "metadata": {},
   "source": [
    "В следующих заданих требуется так или иначе изменить параметры дерева решений и оценить результат.  \n",
    "Как метрику качества будем использовать F1-score. В каждом задании необходимо поменять __только один__ параметр.  \n",
    "\n",
    "Случайный лес — стохастический алгоритм, а значит при каждом запуске может выдавать различный результат. В дальнейших задачах __необходимо__ выставить случайность: добавить параметр `random_state=8` как аргумент при создании ансамблей."
   ]
  },
  {
   "cell_type": "code",
   "execution_count": 19,
   "metadata": {},
   "outputs": [],
   "source": [
    "def compute_metric(clf, X_train=X_train, y_train=y_train,\n",
    "                   X_test=X_test, y_test=y_test):\n",
    "    np.random.seed(42)\n",
    "    clf.fit(X_train, y_train)\n",
    "    y_test_pred = clf.predict(X_test)\n",
    "    return np.round(f1_score(y_test, y_test_pred), 6)"
   ]
  },
  {
   "cell_type": "markdown",
   "metadata": {},
   "source": [
    "Посчитаем значение метрики со стандартными параметрами."
   ]
  },
  {
   "cell_type": "code",
   "execution_count": 21,
   "metadata": {},
   "outputs": [
    {
     "data": {
      "text/plain": [
       "0.965035"
      ]
     },
     "execution_count": 21,
     "metadata": {},
     "output_type": "execute_result"
    }
   ],
   "source": [
    "forest = RandomForestClassifier(random_state=8)\n",
    "compute_metric(forest)"
   ]
  },
  {
   "cell_type": "markdown",
   "metadata": {},
   "source": [
    "1) Напишите индекс самого важного признака по мнению случайного леса. Важности признаков указаны в переменной feature_importances_ случайного леса."
   ]
  },
  {
   "cell_type": "code",
   "execution_count": 24,
   "metadata": {},
   "outputs": [
    {
     "name": "stdout",
     "output_type": "stream",
     "text": [
      "Важность: [0.05217508 0.01589939 0.02342911 0.03752801 0.00978005 0.01579613\n",
      " 0.0435446  0.1333922  0.00349372 0.00508921 0.01276953 0.00376161\n",
      " 0.0045582  0.02468266 0.00425124 0.00476301 0.01040772 0.00433004\n",
      " 0.00538779 0.00716034 0.06055938 0.0201828  0.18704382 0.10320636\n",
      " 0.01537696 0.01515053 0.04969264 0.11202264 0.00946708 0.00509815]\n",
      "Самый важный признак (индекс): 22\n"
     ]
    }
   ],
   "source": [
    "forest = RandomForestClassifier()\n",
    "forest.fit(X_train, y_train)\n",
    "print('Важность:', forest.feature_importances_)\n",
    "m = max(forest.feature_importances_)\n",
    "print('Самый важный признак (индекс):', list(forest.feature_importances_).index(m))"
   ]
  },
  {
   "cell_type": "markdown",
   "metadata": {},
   "source": [
    "2) Увеличьте количество в случайном лесе до 100. Как изменилось качество? Укажите его."
   ]
  },
  {
   "cell_type": "code",
   "execution_count": 25,
   "metadata": {},
   "outputs": [
    {
     "data": {
      "text/plain": [
       "0.965035"
      ]
     },
     "execution_count": 25,
     "metadata": {},
     "output_type": "execute_result"
    }
   ],
   "source": [
    "forest = RandomForestClassifier(random_state=8, n_estimators=100)\n",
    "compute_metric(forest)"
   ]
  },
  {
   "cell_type": "markdown",
   "metadata": {},
   "source": [
    "3) Выставите количество деревьев в лесе равным 100 и включите режим подсчета out-of-bag score. Укажите полученное значение метрики accuracy, округленного до 6 знака после запятой."
   ]
  },
  {
   "cell_type": "code",
   "execution_count": 26,
   "metadata": {},
   "outputs": [],
   "source": [
    "def calc_accuracy(y_true, y_pred):\n",
    "    P = np.sum(y_true == 1)\n",
    "    N = np.sum(y_true == 0)\n",
    "    TP = np.sum((y_true == 1) & (y_pred == 1))\n",
    "    TN = np.sum((y_true == 0) & (y_pred == 0))\n",
    "    acc = (TP + TN) / (P + N)\n",
    "    \n",
    "    return acc"
   ]
  },
  {
   "cell_type": "code",
   "execution_count": 27,
   "metadata": {},
   "outputs": [
    {
     "name": "stdout",
     "output_type": "stream",
     "text": [
      "acc = 100.0%\n"
     ]
    }
   ],
   "source": [
    "forest = RandomForestClassifier(random_state=8, n_estimators=100, oob_score=True)\n",
    "forest.fit(X_train, y_train)\n",
    "y_pred = forest.predict(X_train)\n",
    "acc = calc_accuracy(y_train, y_pred)\n",
    "print('acc = {}%'.format(acc * 100))"
   ]
  },
  {
   "cell_type": "markdown",
   "metadata": {},
   "source": [
    "4) Выключите режим random subspaces в случайном лесе. Укажите качество."
   ]
  },
  {
   "cell_type": "code",
   "execution_count": 28,
   "metadata": {},
   "outputs": [
    {
     "data": {
      "text/plain": [
       "0.972222"
      ]
     },
     "execution_count": 28,
     "metadata": {},
     "output_type": "execute_result"
    }
   ],
   "source": [
    "forest = RandomForestClassifier(n_estimators=100, oob_score=True)\n",
    "compute_metric(forest)"
   ]
  },
  {
   "cell_type": "markdown",
   "metadata": {},
   "source": [
    "5) Выключите режим бутстрапа и переобучите случайный лес. Укажите качество."
   ]
  },
  {
   "cell_type": "code",
   "execution_count": 29,
   "metadata": {},
   "outputs": [
    {
     "data": {
      "text/plain": [
       "0.965035"
      ]
     },
     "execution_count": 29,
     "metadata": {},
     "output_type": "execute_result"
    }
   ],
   "source": [
    "forest = RandomForestClassifier(n_estimators=100, bootstrap=False)\n",
    "compute_metric(forest)"
   ]
  },
  {
   "cell_type": "markdown",
   "metadata": {},
   "source": [
    "6) Какая средняя глубина у деревьев, которые получаются в случайном лесе со стандартными параметрами при его обучении на этой обучающей выборке?"
   ]
  },
  {
   "cell_type": "code",
   "execution_count": 30,
   "metadata": {},
   "outputs": [
    {
     "name": "stdout",
     "output_type": "stream",
     "text": [
      "Средняя глубина деревьев леса = 7.0\n"
     ]
    }
   ],
   "source": [
    "sum_depth = 0\n",
    "forest = RandomForestClassifier()\n",
    "forest.fit(X_train, y_train)\n",
    "for i in range(forest.n_estimators):\n",
    "    sum_depth += forest.estimators_[0].tree_.max_depth\n",
    "print('Средняя глубина деревьев леса =', sum_depth/forest.n_estimators)"
   ]
  },
  {
   "cell_type": "code",
   "execution_count": null,
   "metadata": {},
   "outputs": [],
   "source": []
  }
 ],
 "metadata": {
  "kernelspec": {
   "display_name": "Python 3",
   "language": "python",
   "name": "python3"
  },
  "language_info": {
   "codemirror_mode": {
    "name": "ipython",
    "version": 3
   },
   "file_extension": ".py",
   "mimetype": "text/x-python",
   "name": "python",
   "nbconvert_exporter": "python",
   "pygments_lexer": "ipython3",
   "version": "3.8.5"
  }
 },
 "nbformat": 4,
 "nbformat_minor": 4
}
